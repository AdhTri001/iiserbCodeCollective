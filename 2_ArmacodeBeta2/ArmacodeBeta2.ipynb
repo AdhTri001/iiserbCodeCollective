{
 "cells": [
  {
   "cell_type": "markdown",
   "metadata": {},
   "source": [
    "# Samosas and Jalebis\n",
    "\n",
    "[Open Challenge](https://www.hackerrank.com/contests/armacode-beta-ii-1699684781/challenges/samosas-and-jalebis/problem)"
   ]
  },
  {
   "cell_type": "code",
   "execution_count": null,
   "metadata": {},
   "outputs": [],
   "source": [
    "nSamosaAvailable, nJalebisAvailable = map(int, input().split(\" \"))\n",
    "\n",
    "nSamosaDemanded, nJalebisDemanded = map(int, input().split(\" \"))\n",
    "\n",
    "nCustomers = int(input())\n",
    "\n",
    "# ------------------------------\n",
    "\n",
    "canFulfillSamosas = (\n",
    "    nSamosaDemanded == 0 or (nSamosaAvailable / nSamosaDemanded) >= nCustomers\n",
    ")\n",
    "\n",
    "canFulfillJalebis = (\n",
    "    nJalebisDemanded == 0 or (nJalebisAvailable / nJalebisDemanded) >= nCustomers\n",
    ")\n",
    "\n",
    "if canFulfillSamosas and canFulfillJalebis:\n",
    "    print(\"YES\")\n",
    "else:\n",
    "    print(\"NO\")"
   ]
  },
  {
   "cell_type": "markdown",
   "metadata": {},
   "source": [
    "# Matrix Of Ages\n",
    "\n",
    "[Open Challenge](https://www.hackerrank.com/contests/armacode-beta-ii-1699684781/challenges/matrix-of-ages-1)"
   ]
  },
  {
   "cell_type": "code",
   "execution_count": null,
   "metadata": {},
   "outputs": [],
   "source": [
    "nTerms = int(input(\"\"))\n",
    "\n",
    "# ------------------------------\n",
    "\n",
    "commonDifference = nTerms + 1\n",
    "firstTerm = 1\n",
    "sumOfAP = (nTerms / 2) * (2 * firstTerm + (nTerms - 1) * commonDifference)\n",
    "\n",
    "print(int(sumOfAP))"
   ]
  },
  {
   "cell_type": "markdown",
   "metadata": {},
   "source": [
    "# Recruitment Season\n",
    "\n",
    "[Open Challenge](https://www.hackerrank.com/contests/armacode-beta-ii-1699684781/challenges/recruitment-season)"
   ]
  },
  {
   "cell_type": "code",
   "execution_count": null,
   "metadata": {},
   "outputs": [],
   "source": [
    "nPeople = int((input(\"\")))\n",
    "\n",
    "receivers = list(map(int, input(\"\").split(\" \")))\n",
    "\n",
    "# ------------------------------\n",
    "\n",
    "CEO_INDEX = 0\n",
    "peopleList = [personIndex for personIndex in range(CEO_INDEX, nPeople + 1)]\n",
    "\n",
    "print(\" \".join([str(person) for person in peopleList if person not in receivers]))"
   ]
  },
  {
   "cell_type": "markdown",
   "metadata": {},
   "source": [
    "# Mazey Passcode\n",
    "\n",
    "[Open Challenge](https://www.hackerrank.com/contests/armacode-beta-ii-1699684781/challenges/string-palindrome-1-4)"
   ]
  },
  {
   "cell_type": "code",
   "execution_count": null,
   "metadata": {},
   "outputs": [],
   "source": [
    "palindromeLength = int(input(\"\"))\n",
    "inputStringLength = int(input(\"\"))\n",
    "mazeString = input(\"\")\n",
    "\n",
    "# ------------------------------\n",
    "\n",
    "for i in range(inputStringLength - palindromeLength):\n",
    "    firstHalf = mazeString[i : i + (palindromeLength // 2)]\n",
    "    # Add k%2 because middle name is not repeated if\n",
    "    # the length of the palindrome is odd\n",
    "    secondHalfReversed = mazeString[\n",
    "        i + (palindromeLength // 2) + (palindromeLength % 2) : i + palindromeLength\n",
    "    ][::-1]\n",
    "    if firstHalf == secondHalfReversed:\n",
    "        print(mazeString[i : i + palindromeLength])\n",
    "        break"
   ]
  },
  {
   "cell_type": "markdown",
   "metadata": {},
   "source": [
    "# Double Drain\n",
    "\n",
    "[Open Challenge](https://www.hackerrank.com/contests/armacode-beta-ii-1699684781/challenges/double-drain)\n",
    "\n",
    "It isn't possible to drain the tanks simultaneously:\n",
    "- If (A + B) is not divisible by 3 then it is deffinately not possible to drain both tanks.\n",
    "- If either of the tank is twice more in capacity than other."
   ]
  },
  {
   "cell_type": "code",
   "execution_count": null,
   "metadata": {},
   "outputs": [],
   "source": [
    "nTestCases = int(input(\"\"))\n",
    "\n",
    "while nTestCases:\n",
    "    nTestCases -= 1\n",
    "    volumeReservoirA, volumeReservoirB = map(int, input(\"\").split(\" \"))\n",
    "\n",
    "    isTotalVolumeDivisibleBy3 = (volumeReservoirA + volumeReservoirB) % 3 == 0\n",
    "    isTwiceOfOneLessThanOther = (2 * volumeReservoirA) < volumeReservoirB or (\n",
    "        2 * volumeReservoirB\n",
    "    ) < volumeReservoirA\n",
    "\n",
    "    if (not isTotalVolumeDivisibleBy3) or isTwiceOfOneLessThanOther:\n",
    "        print(\"NO\")\n",
    "    else:\n",
    "        print(\"YES\")"
   ]
  },
  {
   "cell_type": "markdown",
   "metadata": {},
   "source": [
    "# Gateway To Heaven\n",
    "\n",
    "[Open Challenge](https://www.hackerrank.com/contests/armacode-beta-ii-1699684781/challenges/gate-way-to-heaven)\n",
    "\n",
    "Two main properties of odd numbers:\n",
    "- Least significany bit (LSB) is always 1.\n",
    "- Odd number can be written as product of number itself and one.\n",
    "\n",
    "Consider `X = n` and `Y = n-1`, we have `X | Y = n` and `X ^ Y = 1`"
   ]
  },
  {
   "cell_type": "code",
   "execution_count": null,
   "metadata": {},
   "outputs": [],
   "source": [
    "oddN = int(input(\"\"))\n",
    "\n",
    "# ------------------------------\n",
    "\n",
    "print(oddN, oddN - 1)"
   ]
  },
  {
   "cell_type": "markdown",
   "metadata": {},
   "source": [
    "# Cubic Nirvana\n",
    "\n",
    "QUESTION : [Open Challenge](https://www.hackerrank.com/contests/armacode-beta-ii-1699684781/challenges/cubic-nirvana)\n",
    "\n",
    "ANSWER   : [Submit Answer Here](https://www.hackerrank.com/contests/armacode-beta-ii-1699684781/challenges/cubic-nivana-answers)\n",
    "\n",
    "Main idea here was to realise that Ta(2) numbers can't be 3 or 4 mod 7, using modular algebra."
   ]
  },
  {
   "cell_type": "code",
   "execution_count": null,
   "metadata": {},
   "outputs": [],
   "source": [
    "from math import floor, cbrt\n",
    "\n",
    "never_RamaNumberMod7 = [3, 4]\n",
    "\n",
    "nTestCases = int(input())\n",
    "while nTestCases:\n",
    "    nTestCases -= 1\n",
    "    ramaNumberToCheck = int(input(\"\"))\n",
    "    if (ramaNumberToCheck % 7) in never_RamaNumberMod7:\n",
    "        print(0)\n",
    "        continue\n",
    "    j = floor(cbrt(ramaNumberToCheck))\n",
    "    j_cube = j**3\n",
    "    i = floor(cbrt(ramaNumberToCheck - j_cube))\n",
    "    count = 0\n",
    "    while i <= j:\n",
    "        sumOfCubes = i**3 + j_cube\n",
    "        if sumOfCubes == ramaNumberToCheck:\n",
    "            count += 1\n",
    "        elif sumOfCubes >= ramaNumberToCheck:\n",
    "            j -= 1\n",
    "            j_cube = j**3\n",
    "            i = floor(cbrt(ramaNumberToCheck - j_cube))\n",
    "            continue\n",
    "        i += 1\n",
    "    if count >= 2:\n",
    "        print(1)\n",
    "    else:\n",
    "        print(0)"
   ]
  },
  {
   "cell_type": "markdown",
   "metadata": {},
   "source": [
    "# Plant Trees, Save Environment\n",
    "\n",
    "QUESTION : [Open Challenge](https://www.hackerrank.com/contests/armacode-beta-ii-1699684781/challenges/plant-trees-save-environment)\n",
    "\n",
    "ANSWER   : [Submit Answer Here](https://www.hackerrank.com/contests/armacode-beta-ii-1699684781/challenges/plant-trees-save-environment-answers)"
   ]
  },
  {
   "cell_type": "code",
   "execution_count": null,
   "metadata": {},
   "outputs": [],
   "source": [
    "from bisect import bisect_left\n",
    "\n",
    "nSamosaAvailable = int(input())\n",
    "vals = []\n",
    "\n",
    "for _ in range(nSamosaAvailable):\n",
    "    i_start, i_end, i_oxygen = map(int, input().split())\n",
    "    vals.append((i_start, i_end, i_oxygen))\n",
    "\n",
    "vals.sort(key=lambda x: x[1])\n",
    "\n",
    "oxygen_so_far_keys = [0]\n",
    "oxygen_so_far_vals = [0]\n",
    "max_oxygen = 0\n",
    "\n",
    "for i in range(nSamosaAvailable):\n",
    "    start, end, oxy = vals[i]\n",
    "    lower_bound = bisect_left(oxygen_so_far_keys, start) - 1\n",
    "\n",
    "    oxy += oxygen_so_far_vals[lower_bound]\n",
    "    max_oxygen = max(oxy, max_oxygen)\n",
    "    oxygen_so_far_keys.append(end)\n",
    "    oxygen_so_far_vals.append(max_oxygen)\n",
    "\n",
    "print(max_oxygen)"
   ]
  }
 ],
 "metadata": {
  "kernelspec": {
   "display_name": "Python 3",
   "language": "python",
   "name": "python3"
  },
  "language_info": {
   "codemirror_mode": {
    "name": "ipython",
    "version": 3
   },
   "file_extension": ".py",
   "mimetype": "text/x-python",
   "name": "python",
   "nbconvert_exporter": "python",
   "pygments_lexer": "ipython3",
   "version": "3.9.13"
  }
 },
 "nbformat": 4,
 "nbformat_minor": 2
}
