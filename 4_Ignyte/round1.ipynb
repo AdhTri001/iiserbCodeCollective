{
 "cells": [
  {
   "cell_type": "markdown",
   "metadata": {},
   "source": [
    "# Samosa Jalebi\n",
    "\n",
    "[Open Challenge](https://www.hackerrank.com/contests/ignyte/challenges/samosas-and-jalebis)"
   ]
  },
  {
   "cell_type": "code",
   "execution_count": null,
   "metadata": {},
   "outputs": [],
   "source": [
    "nSamosaAvailable, nJalebisAvailable = map(int, input().split(\" \"))\n",
    "\n",
    "nSamosaDemanded, nJalebisDemanded = map(int, input().split(\" \"))\n",
    "\n",
    "nCustomers = int(input())\n",
    "\n",
    "# ------------------------------\n",
    "\n",
    "canFulfillSamosas = (\n",
    "    nSamosaDemanded == 0 or (nSamosaAvailable / nSamosaDemanded) >= nCustomers\n",
    ")\n",
    "\n",
    "canFulfillJalebis = (\n",
    "    nJalebisDemanded == 0 or (nJalebisAvailable / nJalebisDemanded) >= nCustomers\n",
    ")\n",
    "\n",
    "if canFulfillSamosas and canFulfillJalebis:\n",
    "    print(\"YES\")\n",
    "else:\n",
    "    print(\"NO\")"
   ]
  },
  {
   "cell_type": "markdown",
   "metadata": {},
   "source": [
    "# Nevil's Crayon box\n",
    "\n",
    "[Open Challenge](https://www.hackerrank.com/contests/ignyte/challenges/crayon-stack)"
   ]
  },
  {
   "cell_type": "code",
   "execution_count": null,
   "metadata": {},
   "outputs": [],
   "source": [
    "count = {'U':0, 'D':0}\n",
    "\n",
    "s = input()\n",
    "\n",
    "for i in range(len(s) - 1):\n",
    "    if s[i] != s[i+1]:\n",
    "        count[s[i]] += 1\n",
    "count[s[-1]] += 1\n",
    "\n",
    "print(min(list(count.values())))"
   ]
  },
  {
   "cell_type": "markdown",
   "metadata": {},
   "source": [
    "# The Tri-wizard Tourament\n",
    "\n",
    "[Open Challenge](https://www.hackerrank.com/contests/ignyte/challenges/the-tri-wizard-tourament)"
   ]
  },
  {
   "cell_type": "code",
   "execution_count": null,
   "metadata": {},
   "outputs": [],
   "source": [
    "n, x = map(int, input().split(' '))\n",
    "a = list(map(int, input().split(' ')))\n",
    "\n",
    "a.sort()\n",
    "\n",
    "possible = False\n",
    "\n",
    "for i in range(n):\n",
    "    if possible or a[i] >= x:\n",
    "        break\n",
    "    for j in range(i+1, n):\n",
    "        third = x - (a[i] + a[j])\n",
    "        # Check the third number ahead of first two\n",
    "        if third in a[j+1:]:\n",
    "            possible = True\n",
    "            break\n",
    "        # If third number goes beyond a[j] then\n",
    "        # definitely there is no triad with a[i] and a[j]\n",
    "        if third < a[j]:\n",
    "            break\n",
    "\n",
    "print(\"POSSIBLE\" if possible else \"IMPOSSIBLE\")"
   ]
  },
  {
   "cell_type": "markdown",
   "metadata": {},
   "source": [
    "# Mega squares\n",
    "\n",
    "[Open Challenge](https://www.hackerrank.com/contests/ignyte/challenges/mega-square)"
   ]
  },
  {
   "cell_type": "code",
   "execution_count": null,
   "metadata": {},
   "outputs": [],
   "source": [
    "n, s = map(int, input().split())\n",
    "\n",
    "cnt = 0\n",
    "\n",
    "while n >= 4:\n",
    "    n -= int(n**.5) ** 2\n",
    "    cnt += 1\n",
    "\n",
    "print(cnt, n*s*s)"
   ]
  },
  {
   "cell_type": "markdown",
   "metadata": {},
   "source": [
    "# Healthy Chocolates\n",
    "\n",
    "[Open Challenge](https://www.hackerrank.com/contests/ignyte/challenges/healthy-chocolates)"
   ]
  },
  {
   "cell_type": "code",
   "execution_count": null,
   "metadata": {},
   "outputs": [],
   "source": [
    "n = int(input())\n",
    "a = list(map(int, input().split()))\n",
    "\n",
    "if n%2:\n",
    "    memo = [[a[i], 0] for i in range(n)]\n",
    "else:\n",
    "    memo = [[0, a[i]] for i in range(n)]\n",
    "isAlice = False if n%2 else True\n",
    "\n",
    "for i in range(1, n-1):\n",
    "    for j in range(n-i):\n",
    "        if isAlice:\n",
    "            s1 = a[j] + memo[j+1][0]\n",
    "            s2 = a[j+i] + memo[j][0]\n",
    "            if s1 >= s2:\n",
    "                memo[j] = [s1, memo[j+1][1]]\n",
    "            else:\n",
    "                memo[j] = [s2, memo[j][1]]\n",
    "        else:\n",
    "            s1 = a[j] + memo[j+1][1]\n",
    "            s2 = a[j+i] + memo[j][1]\n",
    "            if s1 >= s2:\n",
    "                memo[j] = [memo[j+1][0], s1]\n",
    "            else:\n",
    "                memo[j] = [memo[j][0], s2]\n",
    "    isAlice = not isAlice\n",
    "\n",
    "if n > 1:\n",
    "    print(max(memo[0][0]+a[-1], memo[1][0]+a[0]))\n",
    "else:\n",
    "    print(a[0])"
   ]
  }
 ],
 "metadata": {
  "kernelspec": {
   "display_name": "Python 3",
   "language": "python",
   "name": "python3"
  },
  "language_info": {
   "codemirror_mode": {
    "name": "ipython",
    "version": 3
   },
   "file_extension": ".py",
   "mimetype": "text/x-python",
   "name": "python",
   "nbconvert_exporter": "python",
   "pygments_lexer": "ipython3",
   "version": "3.9.13"
  }
 },
 "nbformat": 4,
 "nbformat_minor": 2
}
