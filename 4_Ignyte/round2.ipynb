{
 "cells": [
  {
   "cell_type": "markdown",
   "metadata": {},
   "source": [
    "# The Flamingo Cipher Challenge\n",
    "\n",
    "[Open Challenge](https://www.hackerrank.com/contests/ignyte-r2/challenges/the-flamingo-cipher-challenge)"
   ]
  },
  {
   "cell_type": "code",
   "execution_count": null,
   "metadata": {},
   "outputs": [],
   "source": [
    "t = int(input())\n",
    "\n",
    "while t:\n",
    "    t -= 1\n",
    "    n = int(input())\n",
    "    a = list(map(int, input().split()))\n",
    "    b = list(map(int, input().split()))\n",
    "\n",
    "    try:\n",
    "        ind = a.index(b[0])\n",
    "    except:\n",
    "        print(\"Locked\")\n",
    "        continue\n",
    "    for i in range(ind, n):\n",
    "        if a[i] != b[i-ind]:\n",
    "            print(\"Locked\")\n",
    "            break\n",
    "    else:\n",
    "        for i in range(0, ind):\n",
    "            if a[i] != b[n-ind+i]:\n",
    "                print(\"Locked\")\n",
    "                break\n",
    "        else:\n",
    "            print(\"Open\")"
   ]
  },
  {
   "cell_type": "markdown",
   "metadata": {},
   "source": [
    "# Cryptic Matrix - 1\n",
    "\n",
    "[Open Solution](https://www.hackerrank.com/contests/ignyte-r2/challenges/cryptic-matrix-1)"
   ]
  },
  {
   "cell_type": "code",
   "execution_count": null,
   "metadata": {},
   "outputs": [],
   "source": [
    "mods = [2, 4, 8, 16, 6, 12, 24, 22, 18, 10, 20, 14]\n",
    "letters = 'ABCDEFGHIJKLMNOPQRSTUVWXYZ'\n",
    "\n",
    "def addtoIndex(curInd, val) -> None:\n",
    "    curInd += val\n",
    "    curInd %= len(letters)\n",
    "    print(letters[curInd], end='')\n",
    "    return curInd\n",
    "\n",
    "n = int(input())\n",
    "c = input()\n",
    "\n",
    "print(c, end = '')\n",
    "\n",
    "curInd = letters.index(c)\n",
    "\n",
    "# Calculating for 2^zero\n",
    "if n > 1:\n",
    "    curInd = addtoIndex(curInd, 1)\n",
    "    curInd = addtoIndex(curInd, 1)\n",
    "\n",
    "moddedPower = 2 # Starting from 2^1\n",
    "\n",
    "# There are n-1 right and n-1 down steps.\n",
    "# But we have already computed for 2^0.\n",
    "# So we run the main loop n-2 many times.\n",
    "for i in range(0, n-2):\n",
    "    curInd = addtoIndex(curInd, moddedPower)\n",
    "    curInd = addtoIndex(curInd, moddedPower)\n",
    "    moddedPower *= 2\n",
    "    moddedPower %= len(letters)\n",
    "    # You have to mod the power on every step to prevent overflow"
   ]
  },
  {
   "cell_type": "markdown",
   "metadata": {},
   "source": [
    "# Enchanted Kingdom Of Paths\n",
    "\n",
    "[Open Challenge](https://www.hackerrank.com/contests/ignyte-r2/challenges/enchanted-kingdom-of-paths)"
   ]
  },
  {
   "cell_type": "code",
   "execution_count": null,
   "metadata": {},
   "outputs": [],
   "source": [
    "MOD = 1000000007\n",
    "\n",
    "n = int(input())\n",
    "dp = [[0] * (n+1) for i in range(n+1)]\n",
    "s = [input() for i in range(n)]\n",
    "dp[0][1] = 1\n",
    "\n",
    "for i in range(1, n+1):\n",
    "    for j in range(1, n+1):\n",
    "        if s[i-1][j-1] == '*':\n",
    "            continue\n",
    "        dp[i][j] = (dp[i - 1][j] + dp[i][j - 1]) % MOD\n",
    "\n",
    "print(dp[n][n])"
   ]
  },
  {
   "cell_type": "markdown",
   "metadata": {},
   "source": [
    "# Redsign the Campus\n",
    "\n",
    "[Open Challenge](https://www.hackerrank.com/contests/ignyte-r2/challenges/redesign-the-campus)\n",
    "\n",
    "One had to realise the given matrix as a chessboard, and all values on black squares remain on black squares, no matter count of transformations given. And values on white squares remains on white squares."
   ]
  },
  {
   "cell_type": "code",
   "execution_count": null,
   "metadata": {},
   "outputs": [],
   "source": [
    "from collections import defaultdict\n",
    "\n",
    "n, m = map(int, input().split())\n",
    "\n",
    "a = []\n",
    "\n",
    "for i in range(n):\n",
    "    a.append(list(map(\n",
    "        int, input().split()\n",
    "    )))\n",
    "\n",
    "b = []\n",
    "\n",
    "for i in range(n):\n",
    "    b.append(list(map(\n",
    "        int, input().split()\n",
    "    )))\n",
    "\n",
    "notFounds = defaultdict(bool)\n",
    "cnts = defaultdict(lambda : 0)\n",
    "\n",
    "for i in range(n):\n",
    "    for j in range(m):\n",
    "        cnts[a[i][j]] += 1\n",
    "        if a[i][j] != b[i][j]:\n",
    "            notFounds[a[i][j]] = (i+j)%2\n",
    "\n",
    "for i in range(n):\n",
    "    for j in range(m):\n",
    "        if b[i][j] in cnts:\n",
    "            cnts[b[i][j]] -= 1\n",
    "        if b[i][j] in notFounds and (i+j)%2 == notFounds[b[i][j]]:\n",
    "            notFounds.pop(b[i][j])\n",
    "\n",
    "if len(notFounds) == 0:\n",
    "    isYes = True\n",
    "    for a in cnts:\n",
    "        if cnts[a]:\n",
    "            isYes = False\n",
    "            break\n",
    "    if isYes:\n",
    "        print(\"YES\")\n",
    "    else:\n",
    "        print(\"NO\")\n",
    "else:\n",
    "    print(\"NO\")"
   ]
  }
 ],
 "metadata": {
  "kernelspec": {
   "display_name": "Python 3",
   "language": "python",
   "name": "python3"
  },
  "language_info": {
   "codemirror_mode": {
    "name": "ipython",
    "version": 3
   },
   "file_extension": ".py",
   "mimetype": "text/x-python",
   "name": "python",
   "nbconvert_exporter": "python",
   "pygments_lexer": "ipython3",
   "version": "3.9.13"
  }
 },
 "nbformat": 4,
 "nbformat_minor": 2
}
